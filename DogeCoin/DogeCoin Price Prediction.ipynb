{
 "cells": [
  {
   "cell_type": "markdown",
   "metadata": {},
   "source": [
    "Dataset Source : Kaggle Dataset\n",
    "\n",
    "Resource and Code : Computer Science youtube channel\n",
    "\n",
    "link: https://www.youtube.com/watch?v=FMKnvsKoQxE"
   ]
  },
  {
   "cell_type": "code",
   "execution_count": 1,
   "metadata": {},
   "outputs": [],
   "source": [
    "import pandas as pd\n",
    "import numpy as np"
   ]
  },
  {
   "cell_type": "code",
   "execution_count": 2,
   "metadata": {},
   "outputs": [
    {
     "data": {
      "text/html": [
       "<div>\n",
       "<style scoped>\n",
       "    .dataframe tbody tr th:only-of-type {\n",
       "        vertical-align: middle;\n",
       "    }\n",
       "\n",
       "    .dataframe tbody tr th {\n",
       "        vertical-align: top;\n",
       "    }\n",
       "\n",
       "    .dataframe thead th {\n",
       "        text-align: right;\n",
       "    }\n",
       "</style>\n",
       "<table border=\"1\" class=\"dataframe\">\n",
       "  <thead>\n",
       "    <tr style=\"text-align: right;\">\n",
       "      <th></th>\n",
       "      <th>Date</th>\n",
       "      <th>Open</th>\n",
       "      <th>High</th>\n",
       "      <th>Low</th>\n",
       "      <th>Close</th>\n",
       "      <th>Adj_Close</th>\n",
       "      <th>Volume</th>\n",
       "    </tr>\n",
       "  </thead>\n",
       "  <tbody>\n",
       "    <tr>\n",
       "      <th>2018-01-01</th>\n",
       "      <td>2018-01-01</td>\n",
       "      <td>0.009031</td>\n",
       "      <td>0.009063</td>\n",
       "      <td>0.008101</td>\n",
       "      <td>0.008909</td>\n",
       "      <td>0.008909</td>\n",
       "      <td>50616900.0</td>\n",
       "    </tr>\n",
       "    <tr>\n",
       "      <th>2018-01-02</th>\n",
       "      <td>2018-01-02</td>\n",
       "      <td>0.008873</td>\n",
       "      <td>0.009598</td>\n",
       "      <td>0.008551</td>\n",
       "      <td>0.009145</td>\n",
       "      <td>0.009145</td>\n",
       "      <td>89424096.0</td>\n",
       "    </tr>\n",
       "    <tr>\n",
       "      <th>2018-01-03</th>\n",
       "      <td>2018-01-03</td>\n",
       "      <td>0.009088</td>\n",
       "      <td>0.009584</td>\n",
       "      <td>0.008882</td>\n",
       "      <td>0.009320</td>\n",
       "      <td>0.009320</td>\n",
       "      <td>66349900.0</td>\n",
       "    </tr>\n",
       "    <tr>\n",
       "      <th>2018-01-04</th>\n",
       "      <td>2018-01-04</td>\n",
       "      <td>0.009346</td>\n",
       "      <td>0.010036</td>\n",
       "      <td>0.008768</td>\n",
       "      <td>0.009644</td>\n",
       "      <td>0.009644</td>\n",
       "      <td>108986000.0</td>\n",
       "    </tr>\n",
       "    <tr>\n",
       "      <th>2018-01-05</th>\n",
       "      <td>2018-01-05</td>\n",
       "      <td>0.009660</td>\n",
       "      <td>0.012283</td>\n",
       "      <td>0.009589</td>\n",
       "      <td>0.012167</td>\n",
       "      <td>0.012167</td>\n",
       "      <td>212383008.0</td>\n",
       "    </tr>\n",
       "  </tbody>\n",
       "</table>\n",
       "</div>"
      ],
      "text/plain": [
       "                  Date      Open      High       Low     Close  Adj_Close  \\\n",
       "2018-01-01  2018-01-01  0.009031  0.009063  0.008101  0.008909   0.008909   \n",
       "2018-01-02  2018-01-02  0.008873  0.009598  0.008551  0.009145   0.009145   \n",
       "2018-01-03  2018-01-03  0.009088  0.009584  0.008882  0.009320   0.009320   \n",
       "2018-01-04  2018-01-04  0.009346  0.010036  0.008768  0.009644   0.009644   \n",
       "2018-01-05  2018-01-05  0.009660  0.012283  0.009589  0.012167   0.012167   \n",
       "\n",
       "                 Volume  \n",
       "2018-01-01   50616900.0  \n",
       "2018-01-02   89424096.0  \n",
       "2018-01-03   66349900.0  \n",
       "2018-01-04  108986000.0  \n",
       "2018-01-05  212383008.0  "
      ]
     },
     "execution_count": 2,
     "metadata": {},
     "output_type": "execute_result"
    }
   ],
   "source": [
    "df=pd.read_csv('DOGE-USD.csv')\n",
    "#set index as date\n",
    "df=df.set_index(pd.DatetimeIndex(df['Date'].values))\n",
    "df.head()"
   ]
  },
  {
   "cell_type": "code",
   "execution_count": 3,
   "metadata": {},
   "outputs": [
    {
     "data": {
      "text/plain": [
       "Date         0\n",
       "Open         4\n",
       "High         4\n",
       "Low          4\n",
       "Close        4\n",
       "Adj_Close    4\n",
       "Volume       4\n",
       "dtype: int64"
      ]
     },
     "execution_count": 3,
     "metadata": {},
     "output_type": "execute_result"
    }
   ],
   "source": [
    "df.isnull().sum()"
   ]
  },
  {
   "cell_type": "code",
   "execution_count": 4,
   "metadata": {},
   "outputs": [],
   "source": [
    "df[\"Open\"].fillna( method ='ffill', inplace = True)\n",
    "df[\"High\"].fillna( method ='ffill', inplace = True)\n",
    "df[\"Low\"].fillna( method ='ffill', inplace = True)\n",
    "df[\"Close\"].fillna( method ='ffill', inplace = True)\n",
    "df[\"Adj_Close\"].fillna( method ='ffill', inplace = True)\n",
    "df[\"Volume\"].fillna( method ='ffill', inplace = True)\n"
   ]
  },
  {
   "cell_type": "code",
   "execution_count": 5,
   "metadata": {},
   "outputs": [
    {
     "data": {
      "text/plain": [
       "Date         0\n",
       "Open         0\n",
       "High         0\n",
       "Low          0\n",
       "Close        0\n",
       "Adj_Close    0\n",
       "Volume       0\n",
       "dtype: int64"
      ]
     },
     "execution_count": 5,
     "metadata": {},
     "output_type": "execute_result"
    }
   ],
   "source": [
    "df.isnull().sum()"
   ]
  },
  {
   "cell_type": "code",
   "execution_count": 6,
   "metadata": {},
   "outputs": [
    {
     "data": {
      "text/html": [
       "<div>\n",
       "<style scoped>\n",
       "    .dataframe tbody tr th:only-of-type {\n",
       "        vertical-align: middle;\n",
       "    }\n",
       "\n",
       "    .dataframe tbody tr th {\n",
       "        vertical-align: top;\n",
       "    }\n",
       "\n",
       "    .dataframe thead th {\n",
       "        text-align: right;\n",
       "    }\n",
       "</style>\n",
       "<table border=\"1\" class=\"dataframe\">\n",
       "  <thead>\n",
       "    <tr style=\"text-align: right;\">\n",
       "      <th></th>\n",
       "      <th>Close</th>\n",
       "    </tr>\n",
       "  </thead>\n",
       "  <tbody>\n",
       "    <tr>\n",
       "      <th>2018-01-01</th>\n",
       "      <td>0.008909</td>\n",
       "    </tr>\n",
       "    <tr>\n",
       "      <th>2018-01-02</th>\n",
       "      <td>0.009145</td>\n",
       "    </tr>\n",
       "    <tr>\n",
       "      <th>2018-01-03</th>\n",
       "      <td>0.009320</td>\n",
       "    </tr>\n",
       "    <tr>\n",
       "      <th>2018-01-04</th>\n",
       "      <td>0.009644</td>\n",
       "    </tr>\n",
       "    <tr>\n",
       "      <th>2018-01-05</th>\n",
       "      <td>0.012167</td>\n",
       "    </tr>\n",
       "  </tbody>\n",
       "</table>\n",
       "</div>"
      ],
      "text/plain": [
       "               Close\n",
       "2018-01-01  0.008909\n",
       "2018-01-02  0.009145\n",
       "2018-01-03  0.009320\n",
       "2018-01-04  0.009644\n",
       "2018-01-05  0.012167"
      ]
     },
     "execution_count": 6,
     "metadata": {},
     "output_type": "execute_result"
    }
   ],
   "source": [
    "df=df[['Close']]\n",
    "df.head()"
   ]
  },
  {
   "cell_type": "code",
   "execution_count": 7,
   "metadata": {},
   "outputs": [
    {
     "data": {
      "text/html": [
       "<div>\n",
       "<style scoped>\n",
       "    .dataframe tbody tr th:only-of-type {\n",
       "        vertical-align: middle;\n",
       "    }\n",
       "\n",
       "    .dataframe tbody tr th {\n",
       "        vertical-align: top;\n",
       "    }\n",
       "\n",
       "    .dataframe thead th {\n",
       "        text-align: right;\n",
       "    }\n",
       "</style>\n",
       "<table border=\"1\" class=\"dataframe\">\n",
       "  <thead>\n",
       "    <tr style=\"text-align: right;\">\n",
       "      <th></th>\n",
       "      <th>Close</th>\n",
       "      <th>Prediction</th>\n",
       "    </tr>\n",
       "  </thead>\n",
       "  <tbody>\n",
       "    <tr>\n",
       "      <th>2021-01-31</th>\n",
       "      <td>0.037196</td>\n",
       "      <td>0.034875</td>\n",
       "    </tr>\n",
       "    <tr>\n",
       "      <th>2021-02-01</th>\n",
       "      <td>0.034875</td>\n",
       "      <td>0.031520</td>\n",
       "    </tr>\n",
       "    <tr>\n",
       "      <th>2021-02-02</th>\n",
       "      <td>0.031520</td>\n",
       "      <td>0.037120</td>\n",
       "    </tr>\n",
       "    <tr>\n",
       "      <th>2021-02-03</th>\n",
       "      <td>0.037120</td>\n",
       "      <td>0.047708</td>\n",
       "    </tr>\n",
       "    <tr>\n",
       "      <th>2021-02-04</th>\n",
       "      <td>0.047708</td>\n",
       "      <td>NaN</td>\n",
       "    </tr>\n",
       "  </tbody>\n",
       "</table>\n",
       "</div>"
      ],
      "text/plain": [
       "               Close  Prediction\n",
       "2021-01-31  0.037196    0.034875\n",
       "2021-02-01  0.034875    0.031520\n",
       "2021-02-02  0.031520    0.037120\n",
       "2021-02-03  0.037120    0.047708\n",
       "2021-02-04  0.047708         NaN"
      ]
     },
     "execution_count": 7,
     "metadata": {},
     "output_type": "execute_result"
    }
   ],
   "source": [
    "pred_day=1\n",
    "#collect the future price:\n",
    "df['Prediction']=df[['Close']].shift(-pred_day)\n",
    "df.tail()"
   ]
  },
  {
   "cell_type": "code",
   "execution_count": 8,
   "metadata": {},
   "outputs": [],
   "source": [
    "x=np.array(df.drop(['Prediction'],1))"
   ]
  },
  {
   "cell_type": "code",
   "execution_count": 9,
   "metadata": {},
   "outputs": [],
   "source": [
    "x=x[:len(df)-pred_day-1]"
   ]
  },
  {
   "cell_type": "code",
   "execution_count": 10,
   "metadata": {},
   "outputs": [
    {
     "data": {
      "text/plain": [
       "array([[0.008909],\n",
       "       [0.009145],\n",
       "       [0.00932 ],\n",
       "       ...,\n",
       "       [0.037196],\n",
       "       [0.034875],\n",
       "       [0.03152 ]])"
      ]
     },
     "execution_count": 10,
     "metadata": {},
     "output_type": "execute_result"
    }
   ],
   "source": [
    "x"
   ]
  },
  {
   "cell_type": "code",
   "execution_count": 11,
   "metadata": {},
   "outputs": [],
   "source": [
    "#create a dependent dataset\n",
    "y=np.array(df['Prediction'])\n",
    "y=y[:-pred_day-1]\n"
   ]
  },
  {
   "cell_type": "code",
   "execution_count": 12,
   "metadata": {},
   "outputs": [
    {
     "data": {
      "text/plain": [
       "array([0.009145, 0.00932 , 0.009644, ..., 0.034875, 0.03152 , 0.03712 ])"
      ]
     },
     "execution_count": 12,
     "metadata": {},
     "output_type": "execute_result"
    }
   ],
   "source": [
    "y"
   ]
  },
  {
   "cell_type": "code",
   "execution_count": 13,
   "metadata": {},
   "outputs": [],
   "source": [
    "#split the data into 80:20:\n",
    "from sklearn.model_selection import train_test_split\n",
    "x_train,x_test,y_train,y_test= train_test_split(x,y,test_size=0.2)"
   ]
  },
  {
   "cell_type": "code",
   "execution_count": 14,
   "metadata": {},
   "outputs": [
    {
     "name": "stdout",
     "output_type": "stream",
     "text": [
      "0.9707240326740658\n"
     ]
    }
   ],
   "source": [
    "from sklearn.ensemble import RandomForestRegressor\n",
    "forest = RandomForestRegressor(n_estimators=4,random_state=587)\n",
    "forest.fit(x_train,y_train)\n",
    "print(forest.score(x_test,y_test))"
   ]
  },
  {
   "cell_type": "code",
   "execution_count": 15,
   "metadata": {},
   "outputs": [
    {
     "name": "stdout",
     "output_type": "stream",
     "text": [
      "[0.00244314 0.00553208 0.00244314 0.00244314 0.0062645  0.00329093\n",
      " 0.00337249 0.00244314 0.00337249 0.00337249 0.00244314 0.00244314\n",
      " 0.00337249 0.00326118 0.00784127 0.00244314 0.00244314 0.00244314\n",
      " 0.00244314 0.00244314 0.00427723 0.00244314 0.00565486 0.00244314\n",
      " 0.00326118 0.00337249 0.00446545 0.00244314 0.00244314 0.00244314\n",
      " 0.00337249 0.00244314 0.00329093 0.00447263 0.00244314 0.00326118\n",
      " 0.00553208 0.00244314 0.00244314 0.0098612  0.00244314 0.00337249\n",
      " 0.00244314 0.00337249 0.00337249 0.00732321 0.00562349 0.00244314\n",
      " 0.00244314 0.00244314 0.00337249 0.00244314 0.00329093 0.00244314\n",
      " 0.00244314 0.00244314 0.00244314 0.01272062 0.00244314 0.00244314\n",
      " 0.00447263 0.00244314 0.00326118 0.00337249 0.00244314 0.00244314\n",
      " 0.00326118 0.00864851 0.00244314 0.00244314 0.00244314 0.00244314\n",
      " 0.00244314 0.00244314 0.00244314 0.01272062 0.00350136 0.00329093\n",
      " 0.00732321 0.00244314 0.00244314 0.00244314 0.00244314 0.00337249\n",
      " 0.00329093 0.00337249 0.00244314 0.0041105  0.00244314 0.00616332\n",
      " 0.00395553 0.00553208 0.00583277 0.00244314 0.00244314 0.00360788\n",
      " 0.00244314 0.00337249 0.00244314 0.00244314 0.00244314 0.01272062\n",
      " 0.00337249 0.00446545 0.00337249 0.00244314 0.00244314 0.00244314\n",
      " 0.00244314 0.00244314 0.00244314 0.00244314 0.00244314 0.00897275\n",
      " 0.00244314 0.00424075 0.00757031 0.00244314 0.00337249 0.00244314\n",
      " 0.03292475 0.00244314 0.00930226 0.00244314 0.00244314 0.00244314\n",
      " 0.0041105  0.00244314 0.00244314 0.00244314 0.00244314 0.00337249\n",
      " 0.00930226 0.00337249 0.00244314 0.00244314 0.00244314 0.0041105\n",
      " 0.00244314 0.00244314 0.00244314 0.00504341 0.00326118 0.00244314\n",
      " 0.00244314 0.00244314 0.00267567 0.00244314 0.00628307 0.00244314\n",
      " 0.00337249 0.00244314 0.00244314 0.00244314 0.00244314 0.00350136\n",
      " 0.00244314 0.00244314 0.00337249 0.0041105  0.00504341 0.00553208\n",
      " 0.00244314 0.00244314 0.00244314 0.00244314 0.00244314 0.00244314\n",
      " 0.00244314 0.00244314 0.00244314 0.00337249 0.00244314 0.00244314\n",
      " 0.00244314 0.00244314 0.00244314 0.00443454 0.00244314 0.00244314\n",
      " 0.00337249 0.00244314 0.00244314 0.00244314 0.00244314 0.00244314\n",
      " 0.00244314 0.00244314 0.00350136 0.00329093 0.00244314 0.00244314\n",
      " 0.00582833 0.00337249 0.00244314 0.00244314 0.00244314 0.00244314\n",
      " 0.00244314 0.00553208 0.00329093 0.00337249 0.005858   0.00244314\n",
      " 0.00244314 0.00244314 0.00244314 0.00244314 0.00472    0.00427723\n",
      " 0.00244314 0.00244314 0.00244314 0.01195787 0.00553208 0.00337249\n",
      " 0.00337249 0.0099163  0.00244314 0.00244314 0.00329093 0.00244314\n",
      " 0.00244314 0.00244314 0.00329093 0.00244314]\n",
      "\n",
      "[0.001566 0.0058   0.002332 0.002083 0.006291 0.003064 0.003398 0.002753\n",
      " 0.003428 0.003389 0.002326 0.002266 0.003229 0.003086 0.008448 0.002774\n",
      " 0.002653 0.002407 0.002755 0.002424 0.004473 0.002369 0.005829 0.002521\n",
      " 0.003091 0.00334  0.004494 0.002582 0.001773 0.002803 0.003535 0.002756\n",
      " 0.003313 0.005412 0.002065 0.003067 0.005301 0.001865 0.001853 0.009846\n",
      " 0.001785 0.003305 0.002241 0.003418 0.003439 0.006329 0.005545 0.002513\n",
      " 0.002615 0.002241 0.003198 0.002073 0.003192 0.002657 0.002533 0.001685\n",
      " 0.002601 0.01342  0.002155 0.001587 0.004397 0.002645 0.003033 0.003419\n",
      " 0.002655 0.002208 0.002928 0.006967 0.002118 0.002443 0.002125 0.002616\n",
      " 0.00246  0.002462 0.001666 0.015045 0.003659 0.003197 0.006024 0.002486\n",
      " 0.00232  0.002217 0.002603 0.003225 0.002827 0.003282 0.002094 0.004017\n",
      " 0.001894 0.004999 0.003533 0.005459 0.005695 0.00254  0.002662 0.003773\n",
      " 0.00208  0.003204 0.002365 0.00268  0.002075 0.017088 0.003145 0.004744\n",
      " 0.003384 0.00262  0.002437 0.00237  0.002039 0.002529 0.002319 0.00316\n",
      " 0.002719 0.00906  0.002909 0.004385 0.007969 0.002021 0.003239 0.002053\n",
      " 0.034875 0.002463 0.009265 0.003228 0.002605 0.002842 0.004286 0.002012\n",
      " 0.002653 0.00238  0.001866 0.003234 0.009369 0.003654 0.002103 0.002531\n",
      " 0.002188 0.003973 0.002524 0.003159 0.00251  0.005182 0.003093 0.002823\n",
      " 0.00199  0.002802 0.003005 0.002354 0.005865 0.002794 0.003459 0.002441\n",
      " 0.002083 0.002111 0.002531 0.003637 0.002223 0.002468 0.003543 0.00415\n",
      " 0.005269 0.005539 0.002653 0.002648 0.002709 0.00199  0.0025   0.00236\n",
      " 0.002505 0.002376 0.002083 0.003463 0.00298  0.002957 0.002787 0.002637\n",
      " 0.002648 0.005164 0.002565 0.001999 0.003689 0.002226 0.002507 0.002611\n",
      " 0.001807 0.002047 0.00263  0.002056 0.003532 0.003186 0.001971 0.002854\n",
      " 0.005831 0.004361 0.002944 0.002028 0.002362 0.001983 0.002669 0.005\n",
      " 0.003223 0.003561 0.006215 0.002388 0.002101 0.001956 0.001959 0.002064\n",
      " 0.004682 0.004172 0.00309  0.002583 0.002706 0.013023 0.005638 0.003238\n",
      " 0.003514 0.00986  0.002196 0.002795 0.002802 0.002028 0.001992 0.002592\n",
      " 0.003079 0.002511]\n"
     ]
    }
   ],
   "source": [
    "#show the values vs actual\n",
    "pred=forest.predict(x_test)\n",
    "#print:\n",
    "print(pred)\n",
    "print()\n",
    "print(y_test)"
   ]
  },
  {
   "cell_type": "code",
   "execution_count": 16,
   "metadata": {},
   "outputs": [
    {
     "name": "stdout",
     "output_type": "stream",
     "text": [
      "0.03712\n"
     ]
    }
   ],
   "source": [
    "df2=df[:-pred_day]\n",
    "x_val=df2.tail(1)['Close'][0]\n",
    "print(x_val)"
   ]
  },
  {
   "cell_type": "code",
   "execution_count": 17,
   "metadata": {},
   "outputs": [],
   "source": [
    "prediction=forest.predict([[x_val]])"
   ]
  },
  {
   "cell_type": "code",
   "execution_count": 18,
   "metadata": {},
   "outputs": [
    {
     "name": "stdout",
     "output_type": "stream",
     "text": [
      "The price of DogeCoin in 1 day(s) is to be [0.03292475]\n",
      "The actual price was : 0.047708\n"
     ]
    }
   ],
   "source": [
    "print('The price of DogeCoin in',pred_day,'day(s) is to be',prediction)\n",
    "print('The actual price was :',df2.tail(1)['Prediction'][0])\n"
   ]
  }
 ],
 "metadata": {
  "kernelspec": {
   "display_name": "Python 3",
   "language": "python",
   "name": "python3"
  },
  "language_info": {
   "codemirror_mode": {
    "name": "ipython",
    "version": 3
   },
   "file_extension": ".py",
   "mimetype": "text/x-python",
   "name": "python",
   "nbconvert_exporter": "python",
   "pygments_lexer": "ipython3",
   "version": "3.7.3"
  }
 },
 "nbformat": 4,
 "nbformat_minor": 2
}
